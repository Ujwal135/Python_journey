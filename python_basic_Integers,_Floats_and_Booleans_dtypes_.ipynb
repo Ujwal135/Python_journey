{
  "nbformat": 4,
  "nbformat_minor": 0,
  "metadata": {
    "colab": {
      "provenance": [],
      "authorship_tag": "ABX9TyPC9zBewiq4F5rhdQy2Bctp",
      "include_colab_link": true
    },
    "kernelspec": {
      "name": "python3",
      "display_name": "Python 3"
    },
    "language_info": {
      "name": "python"
    }
  },
  "cells": [
    {
      "cell_type": "markdown",
      "metadata": {
        "id": "view-in-github",
        "colab_type": "text"
      },
      "source": [
        "<a href=\"https://colab.research.google.com/github/Ujwal135/Python_journey/blob/main/python_basic_Integers%2C_Floats_and_Booleans_dtypes_.ipynb\" target=\"_parent\"><img src=\"https://colab.research.google.com/assets/colab-badge.svg\" alt=\"Open In Colab\"/></a>"
      ]
    },
    {
      "cell_type": "code",
      "source": [],
      "metadata": {
        "id": "XXllTbWSe-tt"
      },
      "execution_count": null,
      "outputs": []
    },
    {
      "cell_type": "markdown",
      "source": [
        "#Integers, Floats and Booleans\n",
        "Numeric - Numeric variables take values which are numbers like 9, 3.14, 0, Inf\n",
        "\n",
        "String - String variables are used to store textual information\n",
        "\n",
        "Boolean - Boolean variables have two modes either True or False. A definite judge of statements!\n",
        "\n",
        "Datetime - These variables are used to store date and time values such as 2020-08-01 12:23:54"
      ],
      "metadata": {
        "id": "8yYFTt6EDyHU"
      }
    },
    {
      "cell_type": "markdown",
      "source": [
        "#numric dtypes"
      ],
      "metadata": {
        "id": "PL3IfK4WFhPz"
      }
    },
    {
      "cell_type": "code",
      "source": [
        "# Addition\n",
        "2+1"
      ],
      "metadata": {
        "colab": {
          "base_uri": "https://localhost:8080/"
        },
        "id": "kBDlV_fGChp3",
        "outputId": "6335da1b-1439-42c7-fd1a-f30768dcb1a6"
      },
      "execution_count": 9,
      "outputs": [
        {
          "output_type": "execute_result",
          "data": {
            "text/plain": [
              "3"
            ]
          },
          "metadata": {},
          "execution_count": 9
        }
      ]
    },
    {
      "cell_type": "code",
      "source": [
        "# Subtraction\n",
        "2-5"
      ],
      "metadata": {
        "id": "ySkRFSyDFpPl"
      },
      "execution_count": null,
      "outputs": []
    },
    {
      "cell_type": "code",
      "source": [
        "# Multiplication\n",
        "2*2"
      ],
      "metadata": {
        "colab": {
          "base_uri": "https://localhost:8080/"
        },
        "id": "xd7CRYMkFugH",
        "outputId": "2a62a41e-badb-4118-94ea-706524e2f196"
      },
      "execution_count": 11,
      "outputs": [
        {
          "output_type": "execute_result",
          "data": {
            "text/plain": [
              "4"
            ]
          },
          "metadata": {},
          "execution_count": 11
        }
      ]
    },
    {
      "cell_type": "code",
      "source": [
        "# Division\n",
        "3/2"
      ],
      "metadata": {
        "colab": {
          "base_uri": "https://localhost:8080/"
        },
        "id": "Bl1757FGFx7Q",
        "outputId": "2632c8a1-1f85-49c1-dbb6-4bbd4e5a3653"
      },
      "execution_count": 12,
      "outputs": [
        {
          "output_type": "execute_result",
          "data": {
            "text/plain": [
              "1.5"
            ]
          },
          "metadata": {},
          "execution_count": 12
        }
      ]
    },
    {
      "cell_type": "code",
      "source": [
        "# Floor Division\n",
        "7//2"
      ],
      "metadata": {
        "colab": {
          "base_uri": "https://localhost:8080/"
        },
        "id": "MBK6Vi5KF04g",
        "outputId": "1db121d6-66af-4aa2-85ce-dca4dcf36d8e"
      },
      "execution_count": 13,
      "outputs": [
        {
          "output_type": "execute_result",
          "data": {
            "text/plain": [
              "3"
            ]
          },
          "metadata": {},
          "execution_count": 13
        }
      ]
    },
    {
      "cell_type": "code",
      "source": [
        "# Exponentiation\n",
        "2**5"
      ],
      "metadata": {
        "colab": {
          "base_uri": "https://localhost:8080/"
        },
        "id": "wdzHHdVyF45i",
        "outputId": "6bdf76a9-aec2-46ad-ddb4-567b95e0903a"
      },
      "execution_count": 15,
      "outputs": [
        {
          "output_type": "execute_result",
          "data": {
            "text/plain": [
              "32"
            ]
          },
          "metadata": {},
          "execution_count": 15
        }
      ]
    },
    {
      "cell_type": "code",
      "source": [
        "# Modulus\n",
        "5%6"
      ],
      "metadata": {
        "colab": {
          "base_uri": "https://localhost:8080/"
        },
        "id": "rzEsS9sAF8Tj",
        "outputId": "1219902e-5c96-495b-b45b-a765752381ca"
      },
      "execution_count": 16,
      "outputs": [
        {
          "output_type": "execute_result",
          "data": {
            "text/plain": [
              "5"
            ]
          },
          "metadata": {},
          "execution_count": 16
        }
      ]
    },
    {
      "cell_type": "code",
      "source": [
        "# Order of Operations followed in Python\n",
        "2 + 10 * 10 + 3"
      ],
      "metadata": {
        "colab": {
          "base_uri": "https://localhost:8080/"
        },
        "id": "ZLwLQOyGGBUV",
        "outputId": "df18a78a-663f-4191-ecd0-9eafd49e33c4"
      },
      "execution_count": 17,
      "outputs": [
        {
          "output_type": "execute_result",
          "data": {
            "text/plain": [
              "105"
            ]
          },
          "metadata": {},
          "execution_count": 17
        }
      ]
    },
    {
      "cell_type": "markdown",
      "source": [
        "A lot many different types of numbers are supported in Python like integers (int type), real numbers (float type), complex numbers. We will mostly use integer and floating point numbers.\n",
        "\n",
        "Integers are just whole numbers, positive or negative. For example: 2 and -2 are examples of integers."
      ],
      "metadata": {
        "id": "aYtIHPQNGWkI"
      }
    },
    {
      "cell_type": "code",
      "source": [
        "# floating numbers\n",
        "a = 2.444\n",
        "type(a)"
      ],
      "metadata": {
        "colab": {
          "base_uri": "https://localhost:8080/"
        },
        "id": "nj3mpW6iGXce",
        "outputId": "b084b8d5-caeb-408a-ec9f-10facecccca3"
      },
      "execution_count": 18,
      "outputs": [
        {
          "output_type": "execute_result",
          "data": {
            "text/plain": [
              "float"
            ]
          },
          "metadata": {},
          "execution_count": 18
        }
      ]
    },
    {
      "cell_type": "markdown",
      "source": [
        "What is a Variable?\n",
        "\n",
        "VARIABLES are entities which help us store information and retrieve it later.\n",
        "\n",
        "A variable with a fixed name can store information of nature like numeric, textual, boolean etc"
      ],
      "metadata": {
        "id": "MD8UQ4-MHGLC"
      }
    },
    {
      "cell_type": "code",
      "source": [
        "x = 10\n"
      ],
      "metadata": {
        "id": "nPSrOrRPG4sQ"
      },
      "execution_count": 19,
      "outputs": []
    },
    {
      "cell_type": "code",
      "source": [
        "x"
      ],
      "metadata": {
        "colab": {
          "base_uri": "https://localhost:8080/"
        },
        "id": "kZyWrscgHQan",
        "outputId": "80afcec1-6401-48cd-f62f-6abdd4eda2cf"
      },
      "execution_count": 20,
      "outputs": [
        {
          "output_type": "execute_result",
          "data": {
            "text/plain": [
              "10"
            ]
          },
          "metadata": {},
          "execution_count": 20
        }
      ]
    },
    {
      "cell_type": "code",
      "source": [
        "y = 2.3"
      ],
      "metadata": {
        "id": "10zv0OSyHcbD"
      },
      "execution_count": 23,
      "outputs": []
    },
    {
      "cell_type": "code",
      "source": [
        "print(y)"
      ],
      "metadata": {
        "colab": {
          "base_uri": "https://localhost:8080/"
        },
        "id": "e5pEZ2t_HREc",
        "outputId": "d6853c1d-1385-4212-b442-4e48e66af18f"
      },
      "execution_count": 24,
      "outputs": [
        {
          "output_type": "stream",
          "name": "stdout",
          "text": [
            "2.3\n"
          ]
        }
      ]
    },
    {
      "cell_type": "code",
      "source": [
        "# basic arithmatic opertion by using variables\n",
        "z = x+y\n",
        "print(z)"
      ],
      "metadata": {
        "colab": {
          "base_uri": "https://localhost:8080/"
        },
        "id": "F9weJQxeHabs",
        "outputId": "a24d28a1-1fc4-47fd-9865-94284a5ce41b"
      },
      "execution_count": 25,
      "outputs": [
        {
          "output_type": "stream",
          "name": "stdout",
          "text": [
            "12.3\n"
          ]
        }
      ]
    },
    {
      "cell_type": "code",
      "source": [
        "# Floor division \n",
        "x = 5\n",
        "y = 6.4\n",
        "z= x//y  #  Remember x=10, y=2.3\n",
        "print(z)\n"
      ],
      "metadata": {
        "colab": {
          "base_uri": "https://localhost:8080/"
        },
        "id": "9a5jFHmSI41D",
        "outputId": "02ae2d31-bca0-432f-8d4b-7f35c6817b15"
      },
      "execution_count": 28,
      "outputs": [
        {
          "output_type": "stream",
          "name": "stdout",
          "text": [
            "0.0\n"
          ]
        }
      ]
    },
    {
      "cell_type": "markdown",
      "source": [
        "The reason we get this result is because we are using \"floor\" division. \n",
        "The // operator (two forward slashes) is the mathematical equivalent of doing [0.75] \n",
        "which returns the greatest integer less than or equal to 0.75"
      ],
      "metadata": {
        "id": "NWK3uS0AJXHg"
      }
    },
    {
      "cell_type": "code",
      "source": [
        "# Modulo operator\n",
        "y=5\n",
        "x=3\n",
        "\n",
        "z = y%x       # Modulus is denoted by % sign\n",
        "print(z)"
      ],
      "metadata": {
        "colab": {
          "base_uri": "https://localhost:8080/"
        },
        "id": "kCCew4bmJECI",
        "outputId": "a1866d0c-6ddf-4459-df26-0399be75b908"
      },
      "execution_count": 29,
      "outputs": [
        {
          "output_type": "stream",
          "name": "stdout",
          "text": [
            "2\n"
          ]
        }
      ]
    },
    {
      "cell_type": "code",
      "source": [
        "# BODMAS nostalgia\n",
        "some_random_operation =(x+y)/y + (y-x)*x     \n",
        "\n",
        "print(some_random_operation)\n",
        "type(some_random_operation)"
      ],
      "metadata": {
        "colab": {
          "base_uri": "https://localhost:8080/"
        },
        "id": "0tKCYnq_IM92",
        "outputId": "d9224dca-1a5f-4d24-9e23-5bd1cdc8cbf3"
      },
      "execution_count": 26,
      "outputs": [
        {
          "output_type": "stream",
          "name": "stdout",
          "text": [
            "-71.65217391304348\n"
          ]
        },
        {
          "output_type": "execute_result",
          "data": {
            "text/plain": [
              "float"
            ]
          },
          "metadata": {},
          "execution_count": 26
        }
      ]
    },
    {
      "cell_type": "markdown",
      "source": [
        "#Boolean Variables\n",
        "A Boolean variable only takes two values either True or False. It is used for comparisons\n",
        "\n",
        "Comparison Operators\n",
        "These operators will allow us to compare variables and output a Boolean value (True or False).\n",
        "\n",
        "If you have any sort of background in Math, these operators should be very straight forward.\n",
        "\n",
        "Python comes with Booleans (with predefined True and False displays that are basically just the integers 1 and 0). It also has a placeholder object called None. Let's walk through a few quick examples of Booleans (we will dive deeper into them later in this course)."
      ],
      "metadata": {
        "id": "0mdhDZwKKTip"
      }
    },
    {
      "cell_type": "code",
      "source": [
        "# Set object to be a boolean\n",
        "boolean_variable = False\n",
        "type(boolean_variable)"
      ],
      "metadata": {
        "colab": {
          "base_uri": "https://localhost:8080/"
        },
        "id": "cXn665NsKLzB",
        "outputId": "96d874b3-d4fc-4542-f6f6-41b35c146eaf"
      },
      "execution_count": 30,
      "outputs": [
        {
          "output_type": "execute_result",
          "data": {
            "text/plain": [
              "bool"
            ]
          },
          "metadata": {},
          "execution_count": 30
        }
      ]
    },
    {
      "cell_type": "code",
      "source": [
        "boolean_variable"
      ],
      "metadata": {
        "colab": {
          "base_uri": "https://localhost:8080/"
        },
        "id": "NjPZtuSqK2jQ",
        "outputId": "312a4f10-3ab5-4dac-e329-130300add4c9"
      },
      "execution_count": 31,
      "outputs": [
        {
          "output_type": "execute_result",
          "data": {
            "text/plain": [
              "False"
            ]
          },
          "metadata": {},
          "execution_count": 31
        }
      ]
    },
    {
      "cell_type": "code",
      "source": [
        "# equal\n",
        "2==3"
      ],
      "metadata": {
        "colab": {
          "base_uri": "https://localhost:8080/"
        },
        "id": "82F6q_tgLCPS",
        "outputId": "52e53f21-df6e-408c-8644-a8dddf41b809"
      },
      "execution_count": 32,
      "outputs": [
        {
          "output_type": "execute_result",
          "data": {
            "text/plain": [
              "False"
            ]
          },
          "metadata": {},
          "execution_count": 32
        }
      ]
    },
    {
      "cell_type": "code",
      "source": [
        "3==3"
      ],
      "metadata": {
        "colab": {
          "base_uri": "https://localhost:8080/"
        },
        "id": "e7XUNpmnLHJd",
        "outputId": "345f3e82-4194-4eef-f614-80cf204b3536"
      },
      "execution_count": 33,
      "outputs": [
        {
          "output_type": "execute_result",
          "data": {
            "text/plain": [
              "True"
            ]
          },
          "metadata": {},
          "execution_count": 33
        }
      ]
    },
    {
      "cell_type": "code",
      "source": [
        "#not equal\n",
        "2!= 3"
      ],
      "metadata": {
        "colab": {
          "base_uri": "https://localhost:8080/"
        },
        "id": "MNDrEFO7LIhT",
        "outputId": "3ddf609c-414d-4df4-8eac-3c56cfcfe83f"
      },
      "execution_count": 34,
      "outputs": [
        {
          "output_type": "execute_result",
          "data": {
            "text/plain": [
              "True"
            ]
          },
          "metadata": {},
          "execution_count": 34
        }
      ]
    },
    {
      "cell_type": "code",
      "source": [
        "2!= 2"
      ],
      "metadata": {
        "colab": {
          "base_uri": "https://localhost:8080/"
        },
        "id": "1faBdZrPLPur",
        "outputId": "59120799-3402-49ef-f714-388888c443c5"
      },
      "execution_count": 35,
      "outputs": [
        {
          "output_type": "execute_result",
          "data": {
            "text/plain": [
              "False"
            ]
          },
          "metadata": {},
          "execution_count": 35
        }
      ]
    },
    {
      "cell_type": "code",
      "source": [
        "# Greater than\n",
        "a=3\n",
        "b=2\n",
        "a> b"
      ],
      "metadata": {
        "colab": {
          "base_uri": "https://localhost:8080/"
        },
        "id": "ViHv179QLmMZ",
        "outputId": "e8034062-2911-40cf-df62-13d9a3862dcb"
      },
      "execution_count": 36,
      "outputs": [
        {
          "output_type": "execute_result",
          "data": {
            "text/plain": [
              "True"
            ]
          },
          "metadata": {},
          "execution_count": 36
        }
      ]
    },
    {
      "cell_type": "code",
      "source": [
        "a == 3"
      ],
      "metadata": {
        "colab": {
          "base_uri": "https://localhost:8080/"
        },
        "id": "k0Uri-97Lrba",
        "outputId": "8ba25fe6-f963-4f8b-a7fe-5720225d81da"
      },
      "execution_count": 37,
      "outputs": [
        {
          "output_type": "execute_result",
          "data": {
            "text/plain": [
              "True"
            ]
          },
          "metadata": {},
          "execution_count": 37
        }
      ]
    },
    {
      "cell_type": "code",
      "source": [
        "b > 4"
      ],
      "metadata": {
        "colab": {
          "base_uri": "https://localhost:8080/"
        },
        "id": "eevUbi7GLwDK",
        "outputId": "73ecc64d-b2ae-49bd-eb85-3074474326d7"
      },
      "execution_count": 38,
      "outputs": [
        {
          "output_type": "execute_result",
          "data": {
            "text/plain": [
              "False"
            ]
          },
          "metadata": {},
          "execution_count": 38
        }
      ]
    },
    {
      "cell_type": "code",
      "source": [
        "#Less than\n",
        "\n",
        "10 < 45"
      ],
      "metadata": {
        "colab": {
          "base_uri": "https://localhost:8080/"
        },
        "id": "ZBcWJ7d3L0ew",
        "outputId": "86aba9ee-46e2-4217-904c-2c1d0671e524"
      },
      "execution_count": 39,
      "outputs": [
        {
          "output_type": "execute_result",
          "data": {
            "text/plain": [
              "True"
            ]
          },
          "metadata": {},
          "execution_count": 39
        }
      ]
    },
    {
      "cell_type": "code",
      "source": [
        "4 < 2"
      ],
      "metadata": {
        "colab": {
          "base_uri": "https://localhost:8080/"
        },
        "id": "hhFkrze2MAEn",
        "outputId": "118a83aa-136f-40c3-d11a-fa9a7387fba7"
      },
      "execution_count": 40,
      "outputs": [
        {
          "output_type": "execute_result",
          "data": {
            "text/plain": [
              "False"
            ]
          },
          "metadata": {},
          "execution_count": 40
        }
      ]
    },
    {
      "cell_type": "code",
      "source": [
        "#Greater than or equal to\n",
        "3 >=2\n"
      ],
      "metadata": {
        "colab": {
          "base_uri": "https://localhost:8080/"
        },
        "id": "APDeAsYGMFId",
        "outputId": "aa69bc93-d502-4bf2-f923-f5e834b6ddd3"
      },
      "execution_count": 41,
      "outputs": [
        {
          "output_type": "execute_result",
          "data": {
            "text/plain": [
              "True"
            ]
          },
          "metadata": {},
          "execution_count": 41
        }
      ]
    },
    {
      "cell_type": "code",
      "source": [
        "4 >= 4"
      ],
      "metadata": {
        "colab": {
          "base_uri": "https://localhost:8080/"
        },
        "id": "77QG_qwMMMc6",
        "outputId": "7539b0db-15d5-4486-f8ad-e51e1e56d3c8"
      },
      "execution_count": 42,
      "outputs": [
        {
          "output_type": "execute_result",
          "data": {
            "text/plain": [
              "True"
            ]
          },
          "metadata": {},
          "execution_count": 42
        }
      ]
    },
    {
      "cell_type": "code",
      "source": [
        "#Less than or equal to\n",
        "3 <= 0"
      ],
      "metadata": {
        "colab": {
          "base_uri": "https://localhost:8080/"
        },
        "id": "AEdlRyG2MP5G",
        "outputId": "745edf5c-ca72-44c9-921f-5e12172cf8fe"
      },
      "execution_count": 43,
      "outputs": [
        {
          "output_type": "execute_result",
          "data": {
            "text/plain": [
              "False"
            ]
          },
          "metadata": {},
          "execution_count": 43
        }
      ]
    },
    {
      "cell_type": "code",
      "source": [
        "1 <= 2"
      ],
      "metadata": {
        "colab": {
          "base_uri": "https://localhost:8080/"
        },
        "id": "NeJypIGdMVNa",
        "outputId": "caca48b4-2785-4652-c870-7c19dc54123d"
      },
      "execution_count": 44,
      "outputs": [
        {
          "output_type": "execute_result",
          "data": {
            "text/plain": [
              "True"
            ]
          },
          "metadata": {},
          "execution_count": 44
        }
      ]
    },
    {
      "cell_type": "code",
      "execution_count": null,
      "metadata": {
        "colab": {
          "base_uri": "https://localhost:8080/"
        },
        "id": "fQEXlB9Vcp0F",
        "outputId": "de1654f9-0ddc-42f8-bbd7-05bca16ee74b"
      },
      "outputs": [
        {
          "output_type": "stream",
          "name": "stdout",
          "text": [
            "<class 'str'>\n"
          ]
        }
      ],
      "source": [
        "# in pyhton there is various data types and data types is very important concept \n",
        "#as we know the variable is storing differnt data types \n",
        "# python has following data type \n",
        "\n",
        "# text data type = 'str'               \n",
        "str1 = 'data'\n",
        "print(type(str1))\n"
      ]
    },
    {
      "cell_type": "code",
      "source": [
        "# numric data type = 'int','float'  \n",
        "int1 = 34 \n",
        "float1 = 3.12 \n",
        "print('int1',type(int1),'float1',type(float1))"
      ],
      "metadata": {
        "colab": {
          "base_uri": "https://localhost:8080/"
        },
        "id": "cEOdat-lidSe",
        "outputId": "eb8a6847-a2d2-48da-c30f-8fd0a8d6ed90"
      },
      "execution_count": null,
      "outputs": [
        {
          "output_type": "stream",
          "name": "stdout",
          "text": [
            "int1 <class 'int'> float1 <class 'float'>\n"
          ]
        }
      ]
    },
    {
      "cell_type": "code",
      "source": [
        "# boolien data type                   \n",
        "a = 1<3\n",
        "print(type(a))"
      ],
      "metadata": {
        "colab": {
          "base_uri": "https://localhost:8080/"
        },
        "id": "dk_ZRuWCjM5a",
        "outputId": "c132781c-c19c-4a93-87f8-ba0f747a5c94"
      },
      "execution_count": null,
      "outputs": [
        {
          "output_type": "stream",
          "name": "stdout",
          "text": [
            "<class 'bool'>\n"
          ]
        }
      ]
    },
    {
      "cell_type": "code",
      "source": [
        "# mapping type \n",
        "# Dict\n",
        "ex_dict = {2:4}\n",
        "print(type(ex_dict))"
      ],
      "metadata": {
        "id": "HN1eeKFqjjYI",
        "colab": {
          "base_uri": "https://localhost:8080/"
        },
        "outputId": "26f6f659-3d7e-4564-deaf-692ff39afc51"
      },
      "execution_count": 2,
      "outputs": [
        {
          "output_type": "stream",
          "name": "stdout",
          "text": [
            "<class 'dict'>\n"
          ]
        }
      ]
    },
    {
      "cell_type": "code",
      "source": [
        "# sets \n",
        "a = [2,3,4,5,4,5,5,6]\n",
        "b = set(a)\n",
        "print(b,type(b))"
      ],
      "metadata": {
        "colab": {
          "base_uri": "https://localhost:8080/"
        },
        "id": "z8nL3vKkAjZS",
        "outputId": "45a906dd-0745-499f-dce9-cba819556b83"
      },
      "execution_count": 3,
      "outputs": [
        {
          "output_type": "stream",
          "name": "stdout",
          "text": [
            "{2, 3, 4, 5, 6} <class 'set'>\n"
          ]
        }
      ]
    }
  ]
}